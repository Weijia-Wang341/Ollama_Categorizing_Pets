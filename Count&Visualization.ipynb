{
 "cells": [
  {
   "cell_type": "code",
   "execution_count": 2,
   "metadata": {},
   "outputs": [
    {
     "data": {
      "text/html": [
       "<div>\n",
       "<style scoped>\n",
       "    .dataframe tbody tr th:only-of-type {\n",
       "        vertical-align: middle;\n",
       "    }\n",
       "\n",
       "    .dataframe tbody tr th {\n",
       "        vertical-align: top;\n",
       "    }\n",
       "\n",
       "    .dataframe thead th {\n",
       "        text-align: right;\n",
       "    }\n",
       "</style>\n",
       "<table border=\"1\" class=\"dataframe\">\n",
       "  <thead>\n",
       "    <tr style=\"text-align: right;\">\n",
       "      <th></th>\n",
       "      <th>respond_id</th>\n",
       "      <th>pet</th>\n",
       "      <th>count</th>\n",
       "      <th>pet vs category</th>\n",
       "      <th>Category</th>\n",
       "    </tr>\n",
       "  </thead>\n",
       "  <tbody>\n",
       "    <tr>\n",
       "      <th>0</th>\n",
       "      <td>1</td>\n",
       "      <td>Duck</td>\n",
       "      <td>6</td>\n",
       "      <td>1. Duck - Waterfowl</td>\n",
       "      <td>Waterfowl</td>\n",
       "    </tr>\n",
       "    <tr>\n",
       "      <th>1</th>\n",
       "      <td>2</td>\n",
       "      <td>Snake</td>\n",
       "      <td>9</td>\n",
       "      <td>2. Snake - Reptile</td>\n",
       "      <td>Reptile</td>\n",
       "    </tr>\n",
       "    <tr>\n",
       "      <th>2</th>\n",
       "      <td>3</td>\n",
       "      <td>Samoyed</td>\n",
       "      <td>1</td>\n",
       "      <td>3. Samoyed - Dog</td>\n",
       "      <td>Dog</td>\n",
       "    </tr>\n",
       "    <tr>\n",
       "      <th>3</th>\n",
       "      <td>4</td>\n",
       "      <td>Dog</td>\n",
       "      <td>6</td>\n",
       "      <td>23. Dog - Dog</td>\n",
       "      <td>Dog</td>\n",
       "    </tr>\n",
       "    <tr>\n",
       "      <th>4</th>\n",
       "      <td>5</td>\n",
       "      <td>British Shorthair</td>\n",
       "      <td>8</td>\n",
       "      <td>4. British Shorthair - Cat</td>\n",
       "      <td>Cat</td>\n",
       "    </tr>\n",
       "  </tbody>\n",
       "</table>\n",
       "</div>"
      ],
      "text/plain": [
       "   respond_id                pet  count             pet vs category   Category\n",
       "0           1               Duck      6         1. Duck - Waterfowl  Waterfowl\n",
       "1           2              Snake      9          2. Snake - Reptile    Reptile\n",
       "2           3            Samoyed      1            3. Samoyed - Dog        Dog\n",
       "3           4                Dog      6               23. Dog - Dog        Dog\n",
       "4           5  British Shorthair      8  4. British Shorthair - Cat        Cat"
      ]
     },
     "execution_count": 2,
     "metadata": {},
     "output_type": "execute_result"
    }
   ],
   "source": [
    "import pandas as pd \n",
    "\n",
    "df = pd.read_csv(\"sample data/output data/categorized_pet.csv\")\n",
    "df.head()\n"
   ]
  }
 ],
 "metadata": {
  "kernelspec": {
   "display_name": "Python 3",
   "language": "python",
   "name": "python3"
  },
  "language_info": {
   "codemirror_mode": {
    "name": "ipython",
    "version": 3
   },
   "file_extension": ".py",
   "mimetype": "text/x-python",
   "name": "python",
   "nbconvert_exporter": "python",
   "pygments_lexer": "ipython3",
   "version": "3.12.2"
  }
 },
 "nbformat": 4,
 "nbformat_minor": 2
}
