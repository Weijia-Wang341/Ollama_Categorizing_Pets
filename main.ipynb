{
 "cells": [
  {
   "cell_type": "code",
   "execution_count": null,
   "metadata": {
    "vscode": {
     "languageId": "plaintext"
    }
   },
   "outputs": [],
   "source": [
    "from langchain_community.llms import Ollama\n",
    "import pandas as pd\n",
    "\n",
    "llm = Ollama(model='mistral')"
   ]
  },
  {
   "cell_type": "code",
   "execution_count": null,
   "metadata": {
    "vscode": {
     "languageId": "plaintext"
    }
   },
   "outputs": [],
   "source": [
    "df = pd.read_csv('sample data/pet.csv')\n",
    "df['pet'] = df['pet'].astype(str)\n",
    "\n",
    "unique_transaction = df['pet'].unique()"
   ]
  },
  {
   "cell_type": "code",
   "execution_count": null,
   "metadata": {
    "vscode": {
     "languageId": "plaintext"
    }
   },
   "outputs": [],
   "source": [
    "def hop(start, stop, step):\n",
    "    for i in range(start, stop, step):\n",
    "        yield i\n",
    "    yield stop\n",
    "\n",
    "index_list = list(hop(0, len(unique_transaction), 30))\n",
    "\n",
    "def categorize_transactions(transaction_names, llm):\n",
    "    response = llm.invoke('can you add an appropriate category next to each of the following apartment services/amenities. for example: coworking space - business room,  bbq/grills area - grill, Valet parking services - valet parking, parking area - parking, etc.. Categories should be less than 4 words. Do not include paraphrase' + transaction_names)\n",
    "    response = response.split('\\n')\n",
    "    \n",
    "\n",
    "    categories_df = pd.DataFrame({'amenities vs category': response})\n",
    "    categories_df[['amenities', 'category']] = categories_df['amenities vs category'].str.split(' - ', expand=True)\n",
    "\n",
    "    return categories_df"
   ]
  },
  {
   "cell_type": "code",
   "execution_count": null,
   "metadata": {
    "vscode": {
     "languageId": "plaintext"
    }
   },
   "outputs": [],
   "source": []
  }
 ],
 "metadata": {
  "language_info": {
   "name": "python"
  }
 },
 "nbformat": 4,
 "nbformat_minor": 2
}
